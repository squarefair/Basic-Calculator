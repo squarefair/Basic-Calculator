{
 "cells": [
  {
   "cell_type": "code",
   "execution_count": 35,
   "metadata": {},
   "outputs": [
    {
     "name": "stdout",
     "output_type": "stream",
     "text": [
      "Greetings!! What is your name: Yafet\n",
      "Hello, Yafet ! This is now offcially your calculator!\n"
     ]
    }
   ],
   "source": [
    "user_name = input(\"Greetings!! What is your name: \")\n",
    "\n",
    "#Write the same greeting above with the user’s name\n",
    "print(\"Hello, \"+ user_name +\" ! This is now offcially your calculator!\")\n"
   ]
  },
  {
   "cell_type": "code",
   "execution_count": 23,
   "metadata": {
    "scrolled": true
   },
   "outputs": [
    {
     "name": "stdout",
     "output_type": "stream",
     "text": [
      "select an operation\n",
      "1.Add\n",
      "2.Subract\n",
      "3.Multiply\n",
      "4.Divide\n",
      "Enter Operation Choice (1/2/3/4) 1\n",
      "Enter first number: 15\n",
      "Enter Second number: 22\n",
      "15.0 + 22.0 = 37.0\n"
     ]
    }
   ],
   "source": [
    "# Program to create a basic calculator called the JP-83 Silver Edition\n",
    "\n",
    "# This operation adds two values\n",
    "def add(x,y):\n",
    "    return x + y\n",
    "\n",
    "# This operation will subtract two values\n",
    "def subtract(x,y):\n",
    "    return x - y\n",
    "\n",
    "# This operation multiplies two values\n",
    "def multiply (x,y):\n",
    "    return x*y\n",
    "\n",
    "# This operation divides two values\n",
    "def divide(x,y):\n",
    "    return x/y\n",
    "\n",
    "print(\"select an operation\")\n",
    "print(\"1.Add\")\n",
    "print(\"2.Subract\")\n",
    "print(\"3.Multiply\")\n",
    "print(\"4.Divide\")\n",
    "\n",
    "#Select an Operation\n",
    "choice = input(\"Enter Operation Choice (1/2/3/4) \")\n",
    "\n",
    "#Verify that user selected valid choice\n",
    "if choice in ('1','2','3','4'):\n",
    "    num1= float(input(\"Enter first number: \"))\n",
    "    num2= float(input(\"Enter Second number: \"))\n",
    "    if choice == '1':      \n",
    "        print(num1,'+',num2, \"=\", add(num1,num2))\n",
    "    elif choice == '2':\n",
    "        print(num1,'-',num2,'=', subtract(num1,num2))\n",
    "    elif choice == '3':\n",
    "        print(num1, '*',num2, '=', multiply(num1,num2))\n",
    "    elif choice == '4':\n",
    "        print(num1, '/',num2, '=', divide(num1,num2))\n",
    "    \n",
    "    else: print(\"ERROR\")"
   ]
  }
 ],
 "metadata": {
  "kernelspec": {
   "display_name": "Python 3",
   "language": "python",
   "name": "python3"
  },
  "language_info": {
   "codemirror_mode": {
    "name": "ipython",
    "version": 3
   },
   "file_extension": ".py",
   "mimetype": "text/x-python",
   "name": "python",
   "nbconvert_exporter": "python",
   "pygments_lexer": "ipython3",
   "version": "3.8.3"
  }
 },
 "nbformat": 4,
 "nbformat_minor": 4
}
